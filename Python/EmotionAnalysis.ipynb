{
 "cells": [
  {
   "cell_type": "markdown",
   "metadata": {},
   "source": [
    "## 情感分布考察"
   ]
  },
  {
   "cell_type": "code",
   "execution_count": 9,
   "metadata": {},
   "outputs": [],
   "source": [
    "import os\n",
    "import pandas as pd\n",
    "import numpy as np\n",
    "import paddlehub as hub"
   ]
  },
  {
   "cell_type": "code",
   "execution_count": 10,
   "metadata": {},
   "outputs": [],
   "source": [
    "df = pd.read_csv(\"xue_distance_final.csv\")"
   ]
  },
  {
   "cell_type": "code",
   "execution_count": 11,
   "metadata": {},
   "outputs": [],
   "source": [
    "df = df['content']"
   ]
  },
  {
   "cell_type": "code",
   "execution_count": 12,
   "metadata": {},
   "outputs": [
    {
     "data": {
      "text/plain": [
       "0                                              要黑胶的私我 免费七天\n",
       "1                                                     cpdd\n",
       "2                                               桥牌的谎言是什么意思\n",
       "3                                   “你永远不知道 我假装不在乎的样子有多难受”\n",
       "4        在这么冷的天?想抽根电子?烟可瑞克没有电可是雪豹已失联摘不下我虚伪的假面几句胡言被奉为圣箴尝...\n",
       "                               ...                        \n",
       "85260                                             我在广东没看过雪\n",
       "85261                                                   第一\n",
       "85262                                      我愿把胸膛解剖 公开脆弱的结构\n",
       "85263                                               啊啊啊啊啊啊\n",
       "85264                                                  第一！\n",
       "Name: content, Length: 85265, dtype: object"
      ]
     },
     "execution_count": 12,
     "metadata": {},
     "output_type": "execute_result"
    }
   ],
   "source": [
    "df"
   ]
  },
  {
   "cell_type": "code",
   "execution_count": null,
   "metadata": {},
   "outputs": [
    {
     "name": "stdout",
     "output_type": "stream",
     "text": [
      "Download https://bj.bcebos.com/paddlehub/paddlehub_dev/senta_bilstm_1.2.0.tar.gz\n",
      "[######################                            ] 45.85%"
     ]
    }
   ],
   "source": [
    "# 加载模型\n",
    "senta = hub.Module(name=\"senta_bilstm\")"
   ]
  },
  {
   "cell_type": "code",
   "execution_count": null,
   "metadata": {},
   "outputs": [],
   "source": []
  }
 ],
 "metadata": {
  "kernelspec": {
   "display_name": "Python 3 (ipykernel)",
   "language": "python",
   "name": "python3"
  },
  "language_info": {
   "codemirror_mode": {
    "name": "ipython",
    "version": 3
   },
   "file_extension": ".py",
   "mimetype": "text/x-python",
   "name": "python",
   "nbconvert_exporter": "python",
   "pygments_lexer": "ipython3",
   "version": "3.10.9"
  }
 },
 "nbformat": 4,
 "nbformat_minor": 2
}
