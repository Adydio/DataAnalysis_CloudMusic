{
 "cells": [
  {
   "cell_type": "markdown",
   "metadata": {},
   "source": [
    "## 情感分布考察"
   ]
  },
  {
   "cell_type": "code",
   "execution_count": 55,
   "metadata": {},
   "outputs": [],
   "source": [
    "import os\n",
    "import pandas as pd\n",
    "import numpy as np\n",
    "import paddlehub as hub\n",
    "import imageio"
   ]
  },
  {
   "cell_type": "code",
   "execution_count": 56,
   "metadata": {},
   "outputs": [],
   "source": [
    "df = pd.read_csv(\"all_emo.csv\")"
   ]
  },
  {
   "cell_type": "code",
   "execution_count": 57,
   "metadata": {},
   "outputs": [],
   "source": [
    "df1 = df['content']"
   ]
  },
  {
   "cell_type": "code",
   "execution_count": 58,
   "metadata": {},
   "outputs": [],
   "source": [
    "df = df[['content','评论类型']]"
   ]
  },
  {
   "cell_type": "code",
   "execution_count": 59,
   "metadata": {},
   "outputs": [
    {
     "data": {
      "text/html": [
       "<div>\n",
       "<style scoped>\n",
       "    .dataframe tbody tr th:only-of-type {\n",
       "        vertical-align: middle;\n",
       "    }\n",
       "\n",
       "    .dataframe tbody tr th {\n",
       "        vertical-align: top;\n",
       "    }\n",
       "\n",
       "    .dataframe thead th {\n",
       "        text-align: right;\n",
       "    }\n",
       "</style>\n",
       "<table border=\"1\" class=\"dataframe\">\n",
       "  <thead>\n",
       "    <tr style=\"text-align: right;\">\n",
       "      <th></th>\n",
       "      <th>content</th>\n",
       "      <th>评论类型</th>\n",
       "    </tr>\n",
       "  </thead>\n",
       "  <tbody>\n",
       "    <tr>\n",
       "      <th>0</th>\n",
       "      <td>不行啊！这歌也太让人快乐了！洗澡的时候我直接扭成龙卷风！！！</td>\n",
       "      <td>热评</td>\n",
       "    </tr>\n",
       "    <tr>\n",
       "      <th>1</th>\n",
       "      <td>这派对也太危险了，男孩子在外面玩一定要好好保护自己[惊恐]</td>\n",
       "      <td>热评</td>\n",
       "    </tr>\n",
       "    <tr>\n",
       "      <th>2</th>\n",
       "      <td>“右手托住你的心跳”怎么……托?</td>\n",
       "      <td>热评</td>\n",
       "    </tr>\n",
       "    <tr>\n",
       "      <th>3</th>\n",
       "      <td>你说你大姨妈走了让我晚上去你家宝守灵这活哥真干不了啊</td>\n",
       "      <td>热评</td>\n",
       "    </tr>\n",
       "    <tr>\n",
       "      <th>4</th>\n",
       "      <td>托住你的心跳这句可太高情商了</td>\n",
       "      <td>热评</td>\n",
       "    </tr>\n",
       "    <tr>\n",
       "      <th>...</th>\n",
       "      <td>...</td>\n",
       "      <td>...</td>\n",
       "    </tr>\n",
       "    <tr>\n",
       "      <th>128653</th>\n",
       "      <td>我在广东没看过雪</td>\n",
       "      <td>雪Distance</td>\n",
       "    </tr>\n",
       "    <tr>\n",
       "      <th>128654</th>\n",
       "      <td>第一</td>\n",
       "      <td>雪Distance</td>\n",
       "    </tr>\n",
       "    <tr>\n",
       "      <th>128655</th>\n",
       "      <td>我愿把胸膛解剖 公开脆弱的结构</td>\n",
       "      <td>雪Distance</td>\n",
       "    </tr>\n",
       "    <tr>\n",
       "      <th>128656</th>\n",
       "      <td>啊啊啊啊啊啊</td>\n",
       "      <td>雪Distance</td>\n",
       "    </tr>\n",
       "    <tr>\n",
       "      <th>128657</th>\n",
       "      <td>第一！</td>\n",
       "      <td>雪Distance</td>\n",
       "    </tr>\n",
       "  </tbody>\n",
       "</table>\n",
       "<p>128658 rows × 2 columns</p>\n",
       "</div>"
      ],
      "text/plain": [
       "                               content       评论类型\n",
       "0       不行啊！这歌也太让人快乐了！洗澡的时候我直接扭成龙卷风！！！         热评\n",
       "1        这派对也太危险了，男孩子在外面玩一定要好好保护自己[惊恐]         热评\n",
       "2                     “右手托住你的心跳”怎么……托?         热评\n",
       "3           你说你大姨妈走了让我晚上去你家宝守灵这活哥真干不了啊         热评\n",
       "4                       托住你的心跳这句可太高情商了         热评\n",
       "...                                ...        ...\n",
       "128653                        我在广东没看过雪  雪Distance\n",
       "128654                              第一  雪Distance\n",
       "128655                 我愿把胸膛解剖 公开脆弱的结构  雪Distance\n",
       "128656                          啊啊啊啊啊啊  雪Distance\n",
       "128657                             第一！  雪Distance\n",
       "\n",
       "[128658 rows x 2 columns]"
      ]
     },
     "execution_count": 59,
     "metadata": {},
     "output_type": "execute_result"
    }
   ],
   "source": [
    "df"
   ]
  },
  {
   "cell_type": "code",
   "execution_count": 60,
   "metadata": {},
   "outputs": [
    {
     "name": "stderr",
     "output_type": "stream",
     "text": [
      "\u001b[33m[2023-05-14 00:10:00,407] [ WARNING]\u001b[0m - The _initialize method in HubModule will soon be deprecated, you can use the __init__() to handle the initialization of the object\u001b[0m\n"
     ]
    }
   ],
   "source": [
    "# 加载模型\n",
    "senta = hub.Module(name=\"senta_bilstm\")"
   ]
  },
  {
   "cell_type": "code",
   "execution_count": 62,
   "metadata": {},
   "outputs": [],
   "source": [
    "test_text = df1.tolist()\n",
    "for i in range(len(test_text)):\n",
    "    test_text[i] = str(test_text[i])"
   ]
  },
  {
   "cell_type": "code",
   "execution_count": 63,
   "metadata": {},
   "outputs": [],
   "source": [
    "results = senta.sentiment_classify(texts=test_text, use_gpu=False, batch_size=1)"
   ]
  },
  {
   "cell_type": "code",
   "execution_count": 64,
   "metadata": {},
   "outputs": [],
   "source": [
    "results_df = pd.DataFrame(results)"
   ]
  },
  {
   "cell_type": "code",
   "execution_count": 65,
   "metadata": {},
   "outputs": [],
   "source": [
    "df2 = pd.concat([df,results_df],axis=1)"
   ]
  },
  {
   "cell_type": "code",
   "execution_count": 66,
   "metadata": {},
   "outputs": [
    {
     "data": {
      "text/html": [
       "<div>\n",
       "<style scoped>\n",
       "    .dataframe tbody tr th:only-of-type {\n",
       "        vertical-align: middle;\n",
       "    }\n",
       "\n",
       "    .dataframe tbody tr th {\n",
       "        vertical-align: top;\n",
       "    }\n",
       "\n",
       "    .dataframe thead th {\n",
       "        text-align: right;\n",
       "    }\n",
       "</style>\n",
       "<table border=\"1\" class=\"dataframe\">\n",
       "  <thead>\n",
       "    <tr style=\"text-align: right;\">\n",
       "      <th></th>\n",
       "      <th>content</th>\n",
       "      <th>评论类型</th>\n",
       "      <th>text</th>\n",
       "      <th>sentiment_label</th>\n",
       "      <th>sentiment_key</th>\n",
       "      <th>positive_probs</th>\n",
       "      <th>negative_probs</th>\n",
       "    </tr>\n",
       "  </thead>\n",
       "  <tbody>\n",
       "    <tr>\n",
       "      <th>0</th>\n",
       "      <td>不行啊！这歌也太让人快乐了！洗澡的时候我直接扭成龙卷风！！！</td>\n",
       "      <td>热评</td>\n",
       "      <td>不行啊！这歌也太让人快乐了！洗澡的时候我直接扭成龙卷风！！！</td>\n",
       "      <td>0</td>\n",
       "      <td>negative</td>\n",
       "      <td>0.0493</td>\n",
       "      <td>0.9507</td>\n",
       "    </tr>\n",
       "    <tr>\n",
       "      <th>1</th>\n",
       "      <td>这派对也太危险了，男孩子在外面玩一定要好好保护自己[惊恐]</td>\n",
       "      <td>热评</td>\n",
       "      <td>这派对也太危险了，男孩子在外面玩一定要好好保护自己[惊恐]</td>\n",
       "      <td>0</td>\n",
       "      <td>negative</td>\n",
       "      <td>0.2686</td>\n",
       "      <td>0.7314</td>\n",
       "    </tr>\n",
       "    <tr>\n",
       "      <th>2</th>\n",
       "      <td>“右手托住你的心跳”怎么……托?</td>\n",
       "      <td>热评</td>\n",
       "      <td>“右手托住你的心跳”怎么……托?</td>\n",
       "      <td>0</td>\n",
       "      <td>negative</td>\n",
       "      <td>0.0207</td>\n",
       "      <td>0.9793</td>\n",
       "    </tr>\n",
       "    <tr>\n",
       "      <th>3</th>\n",
       "      <td>你说你大姨妈走了让我晚上去你家宝守灵这活哥真干不了啊</td>\n",
       "      <td>热评</td>\n",
       "      <td>你说你大姨妈走了让我晚上去你家宝守灵这活哥真干不了啊</td>\n",
       "      <td>0</td>\n",
       "      <td>negative</td>\n",
       "      <td>0.0189</td>\n",
       "      <td>0.9811</td>\n",
       "    </tr>\n",
       "    <tr>\n",
       "      <th>4</th>\n",
       "      <td>托住你的心跳这句可太高情商了</td>\n",
       "      <td>热评</td>\n",
       "      <td>托住你的心跳这句可太高情商了</td>\n",
       "      <td>0</td>\n",
       "      <td>negative</td>\n",
       "      <td>0.2604</td>\n",
       "      <td>0.7396</td>\n",
       "    </tr>\n",
       "    <tr>\n",
       "      <th>...</th>\n",
       "      <td>...</td>\n",
       "      <td>...</td>\n",
       "      <td>...</td>\n",
       "      <td>...</td>\n",
       "      <td>...</td>\n",
       "      <td>...</td>\n",
       "      <td>...</td>\n",
       "    </tr>\n",
       "    <tr>\n",
       "      <th>128653</th>\n",
       "      <td>我在广东没看过雪</td>\n",
       "      <td>雪Distance</td>\n",
       "      <td>我在广东没看过雪</td>\n",
       "      <td>1</td>\n",
       "      <td>positive</td>\n",
       "      <td>0.6763</td>\n",
       "      <td>0.3237</td>\n",
       "    </tr>\n",
       "    <tr>\n",
       "      <th>128654</th>\n",
       "      <td>第一</td>\n",
       "      <td>雪Distance</td>\n",
       "      <td>第一</td>\n",
       "      <td>1</td>\n",
       "      <td>positive</td>\n",
       "      <td>0.6791</td>\n",
       "      <td>0.3209</td>\n",
       "    </tr>\n",
       "    <tr>\n",
       "      <th>128655</th>\n",
       "      <td>我愿把胸膛解剖 公开脆弱的结构</td>\n",
       "      <td>雪Distance</td>\n",
       "      <td>我愿把胸膛解剖 公开脆弱的结构</td>\n",
       "      <td>0</td>\n",
       "      <td>negative</td>\n",
       "      <td>0.4541</td>\n",
       "      <td>0.5459</td>\n",
       "    </tr>\n",
       "    <tr>\n",
       "      <th>128656</th>\n",
       "      <td>啊啊啊啊啊啊</td>\n",
       "      <td>雪Distance</td>\n",
       "      <td>啊啊啊啊啊啊</td>\n",
       "      <td>1</td>\n",
       "      <td>positive</td>\n",
       "      <td>0.5955</td>\n",
       "      <td>0.4045</td>\n",
       "    </tr>\n",
       "    <tr>\n",
       "      <th>128657</th>\n",
       "      <td>第一！</td>\n",
       "      <td>雪Distance</td>\n",
       "      <td>第一！</td>\n",
       "      <td>1</td>\n",
       "      <td>positive</td>\n",
       "      <td>0.7314</td>\n",
       "      <td>0.2686</td>\n",
       "    </tr>\n",
       "  </tbody>\n",
       "</table>\n",
       "<p>128658 rows × 7 columns</p>\n",
       "</div>"
      ],
      "text/plain": [
       "                               content       评论类型  \\\n",
       "0       不行啊！这歌也太让人快乐了！洗澡的时候我直接扭成龙卷风！！！         热评   \n",
       "1        这派对也太危险了，男孩子在外面玩一定要好好保护自己[惊恐]         热评   \n",
       "2                     “右手托住你的心跳”怎么……托?         热评   \n",
       "3           你说你大姨妈走了让我晚上去你家宝守灵这活哥真干不了啊         热评   \n",
       "4                       托住你的心跳这句可太高情商了         热评   \n",
       "...                                ...        ...   \n",
       "128653                        我在广东没看过雪  雪Distance   \n",
       "128654                              第一  雪Distance   \n",
       "128655                 我愿把胸膛解剖 公开脆弱的结构  雪Distance   \n",
       "128656                          啊啊啊啊啊啊  雪Distance   \n",
       "128657                             第一！  雪Distance   \n",
       "\n",
       "                                  text  sentiment_label sentiment_key  \\\n",
       "0       不行啊！这歌也太让人快乐了！洗澡的时候我直接扭成龙卷风！！！                0      negative   \n",
       "1        这派对也太危险了，男孩子在外面玩一定要好好保护自己[惊恐]                0      negative   \n",
       "2                     “右手托住你的心跳”怎么……托?                0      negative   \n",
       "3           你说你大姨妈走了让我晚上去你家宝守灵这活哥真干不了啊                0      negative   \n",
       "4                       托住你的心跳这句可太高情商了                0      negative   \n",
       "...                                ...              ...           ...   \n",
       "128653                        我在广东没看过雪                1      positive   \n",
       "128654                              第一                1      positive   \n",
       "128655                 我愿把胸膛解剖 公开脆弱的结构                0      negative   \n",
       "128656                          啊啊啊啊啊啊                1      positive   \n",
       "128657                             第一！                1      positive   \n",
       "\n",
       "        positive_probs  negative_probs  \n",
       "0               0.0493          0.9507  \n",
       "1               0.2686          0.7314  \n",
       "2               0.0207          0.9793  \n",
       "3               0.0189          0.9811  \n",
       "4               0.2604          0.7396  \n",
       "...                ...             ...  \n",
       "128653          0.6763          0.3237  \n",
       "128654          0.6791          0.3209  \n",
       "128655          0.4541          0.5459  \n",
       "128656          0.5955          0.4045  \n",
       "128657          0.7314          0.2686  \n",
       "\n",
       "[128658 rows x 7 columns]"
      ]
     },
     "execution_count": 66,
     "metadata": {},
     "output_type": "execute_result"
    }
   ],
   "source": [
    "df2"
   ]
  },
  {
   "cell_type": "code",
   "execution_count": 10,
   "metadata": {},
   "outputs": [],
   "source": [
    "df2[\"new_sentiment_label\"] = df2[\"positive_probs\"].map(lambda x: 1 if x>=0.5 else 0)\n",
    "df2[\"p\"] = df2[\"positive_probs\"].map(lambda x: 0.5 if x>=0 else 0)"
   ]
  },
  {
   "cell_type": "code",
   "execution_count": 67,
   "metadata": {},
   "outputs": [],
   "source": [
    "#df2 = df2[['userid','timeStr','content','new_sentiment_label','p']]\n",
    "df2 = df2[['content','positive_probs','评论类型']]"
   ]
  },
  {
   "cell_type": "code",
   "execution_count": 68,
   "metadata": {},
   "outputs": [
    {
     "data": {
      "text/html": [
       "<div>\n",
       "<style scoped>\n",
       "    .dataframe tbody tr th:only-of-type {\n",
       "        vertical-align: middle;\n",
       "    }\n",
       "\n",
       "    .dataframe tbody tr th {\n",
       "        vertical-align: top;\n",
       "    }\n",
       "\n",
       "    .dataframe thead th {\n",
       "        text-align: right;\n",
       "    }\n",
       "</style>\n",
       "<table border=\"1\" class=\"dataframe\">\n",
       "  <thead>\n",
       "    <tr style=\"text-align: right;\">\n",
       "      <th></th>\n",
       "      <th>content</th>\n",
       "      <th>positive_probs</th>\n",
       "      <th>评论类型</th>\n",
       "    </tr>\n",
       "  </thead>\n",
       "  <tbody>\n",
       "    <tr>\n",
       "      <th>0</th>\n",
       "      <td>不行啊！这歌也太让人快乐了！洗澡的时候我直接扭成龙卷风！！！</td>\n",
       "      <td>0.0493</td>\n",
       "      <td>热评</td>\n",
       "    </tr>\n",
       "    <tr>\n",
       "      <th>1</th>\n",
       "      <td>这派对也太危险了，男孩子在外面玩一定要好好保护自己[惊恐]</td>\n",
       "      <td>0.2686</td>\n",
       "      <td>热评</td>\n",
       "    </tr>\n",
       "    <tr>\n",
       "      <th>2</th>\n",
       "      <td>“右手托住你的心跳”怎么……托?</td>\n",
       "      <td>0.0207</td>\n",
       "      <td>热评</td>\n",
       "    </tr>\n",
       "    <tr>\n",
       "      <th>3</th>\n",
       "      <td>你说你大姨妈走了让我晚上去你家宝守灵这活哥真干不了啊</td>\n",
       "      <td>0.0189</td>\n",
       "      <td>热评</td>\n",
       "    </tr>\n",
       "    <tr>\n",
       "      <th>4</th>\n",
       "      <td>托住你的心跳这句可太高情商了</td>\n",
       "      <td>0.2604</td>\n",
       "      <td>热评</td>\n",
       "    </tr>\n",
       "  </tbody>\n",
       "</table>\n",
       "</div>"
      ],
      "text/plain": [
       "                          content  positive_probs 评论类型\n",
       "0  不行啊！这歌也太让人快乐了！洗澡的时候我直接扭成龙卷风！！！          0.0493   热评\n",
       "1   这派对也太危险了，男孩子在外面玩一定要好好保护自己[惊恐]          0.2686   热评\n",
       "2                “右手托住你的心跳”怎么……托?          0.0207   热评\n",
       "3      你说你大姨妈走了让我晚上去你家宝守灵这活哥真干不了啊          0.0189   热评\n",
       "4                  托住你的心跳这句可太高情商了          0.2604   热评"
      ]
     },
     "execution_count": 68,
     "metadata": {},
     "output_type": "execute_result"
    }
   ],
   "source": [
    "df2.head()"
   ]
  },
  {
   "cell_type": "code",
   "execution_count": 69,
   "metadata": {},
   "outputs": [],
   "source": [
    "df2.to_csv(\"all_emotion_probs.csv\",encoding='utf_8_sig')"
   ]
  },
  {
   "cell_type": "code",
   "execution_count": null,
   "metadata": {},
   "outputs": [],
   "source": []
  }
 ],
 "metadata": {
  "kernelspec": {
   "display_name": "Python 3 (ipykernel)",
   "language": "python",
   "name": "python3"
  },
  "language_info": {
   "codemirror_mode": {
    "name": "ipython",
    "version": 3
   },
   "file_extension": ".py",
   "mimetype": "text/x-python",
   "name": "python",
   "nbconvert_exporter": "python",
   "pygments_lexer": "ipython3",
   "version": "3.10.9"
  }
 },
 "nbformat": 4,
 "nbformat_minor": 2
}
