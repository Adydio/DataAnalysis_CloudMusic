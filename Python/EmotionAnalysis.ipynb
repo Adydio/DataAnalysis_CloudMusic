{
 "cells": [
  {
   "cell_type": "markdown",
   "metadata": {},
   "source": [
    "## 情感分布考察"
   ]
  },
  {
   "cell_type": "code",
   "execution_count": 114,
   "metadata": {},
   "outputs": [],
   "source": [
    "import os\n",
    "import pandas as pd\n",
    "import numpy as np\n",
    "import paddlehub as hub\n",
    "import imageio"
   ]
  },
  {
   "cell_type": "code",
   "execution_count": 65,
   "metadata": {},
   "outputs": [],
   "source": [
    "df = pd.read_csv(\"xue_distance_final.csv\")"
   ]
  },
  {
   "cell_type": "code",
   "execution_count": 11,
   "metadata": {},
   "outputs": [],
   "source": [
    "df = df['content']"
   ]
  },
  {
   "cell_type": "code",
   "execution_count": 12,
   "metadata": {},
   "outputs": [
    {
     "data": {
      "text/plain": [
       "0                                              要黑胶的私我 免费七天\n",
       "1                                                     cpdd\n",
       "2                                               桥牌的谎言是什么意思\n",
       "3                                   “你永远不知道 我假装不在乎的样子有多难受”\n",
       "4        在这么冷的天?想抽根电子?烟可瑞克没有电可是雪豹已失联摘不下我虚伪的假面几句胡言被奉为圣箴尝...\n",
       "                               ...                        \n",
       "85260                                             我在广东没看过雪\n",
       "85261                                                   第一\n",
       "85262                                      我愿把胸膛解剖 公开脆弱的结构\n",
       "85263                                               啊啊啊啊啊啊\n",
       "85264                                                  第一！\n",
       "Name: content, Length: 85265, dtype: object"
      ]
     },
     "execution_count": 12,
     "metadata": {},
     "output_type": "execute_result"
    }
   ],
   "source": [
    "df"
   ]
  },
  {
   "cell_type": "code",
   "execution_count": 13,
   "metadata": {},
   "outputs": [
    {
     "name": "stdout",
     "output_type": "stream",
     "text": [
      "Download https://bj.bcebos.com/paddlehub/paddlehub_dev/senta_bilstm_1.2.0.tar.gz\n",
      "[##################################################] 100.00%\n",
      "Decompress C:\\Users\\Adydio\\.paddlehub\\tmp\\tmpyo6njcds\\senta_bilstm_1.2.0.tar.gz\n",
      "[##################################################] 100.00%\n"
     ]
    },
    {
     "name": "stderr",
     "output_type": "stream",
     "text": [
      "\u001b[32m[2023-05-11 18:17:08,216] [    INFO]\u001b[0m - Successfully installed senta_bilstm-1.2.0\u001b[0m\n",
      "\u001b[33m[2023-05-11 18:17:08,386] [ WARNING]\u001b[0m - The _initialize method in HubModule will soon be deprecated, you can use the __init__() to handle the initialization of the object\u001b[0m\n"
     ]
    }
   ],
   "source": [
    "# 加载模型\n",
    "senta = hub.Module(name=\"senta_bilstm\")"
   ]
  },
  {
   "cell_type": "code",
   "execution_count": 62,
   "metadata": {},
   "outputs": [],
   "source": [
    "test_text = df.tolist()\n",
    "for i in range(len(test_text)):\n",
    "    test_text[i] = str(test_text[i])"
   ]
  },
  {
   "cell_type": "code",
   "execution_count": 63,
   "metadata": {},
   "outputs": [],
   "source": [
    "results = senta.sentiment_classify(texts=test_text, use_gpu=False, batch_size=1)"
   ]
  },
  {
   "cell_type": "code",
   "execution_count": 66,
   "metadata": {},
   "outputs": [],
   "source": [
    "results_df = pd.DataFrame(results)"
   ]
  },
  {
   "cell_type": "code",
   "execution_count": 109,
   "metadata": {},
   "outputs": [],
   "source": [
    "df2 = pd.concat([df,results_df],axis=1)"
   ]
  },
  {
   "cell_type": "code",
   "execution_count": 110,
   "metadata": {},
   "outputs": [],
   "source": [
    "df2[\"new_sentiment_label\"] = df2[\"positive_probs\"].map(lambda x: 1 if x>=0.5 else 0)\n",
    "df2[\"p\"] = df2[\"positive_probs\"].map(lambda x: 0.5 if x>=0 else 0)"
   ]
  },
  {
   "cell_type": "code",
   "execution_count": 111,
   "metadata": {},
   "outputs": [],
   "source": [
    "df2 = df2[['userid','timeStr','content','new_sentiment_label','p']]"
   ]
  },
  {
   "cell_type": "code",
   "execution_count": 112,
   "metadata": {},
   "outputs": [
    {
     "data": {
      "text/html": [
       "<div>\n",
       "<style scoped>\n",
       "    .dataframe tbody tr th:only-of-type {\n",
       "        vertical-align: middle;\n",
       "    }\n",
       "\n",
       "    .dataframe tbody tr th {\n",
       "        vertical-align: top;\n",
       "    }\n",
       "\n",
       "    .dataframe thead th {\n",
       "        text-align: right;\n",
       "    }\n",
       "</style>\n",
       "<table border=\"1\" class=\"dataframe\">\n",
       "  <thead>\n",
       "    <tr style=\"text-align: right;\">\n",
       "      <th></th>\n",
       "      <th>userid</th>\n",
       "      <th>timeStr</th>\n",
       "      <th>content</th>\n",
       "      <th>new_sentiment_label</th>\n",
       "      <th>p</th>\n",
       "    </tr>\n",
       "  </thead>\n",
       "  <tbody>\n",
       "    <tr>\n",
       "      <th>0</th>\n",
       "      <td>121155230</td>\n",
       "      <td>2023/5/9</td>\n",
       "      <td>要黑胶的私我 免费七天</td>\n",
       "      <td>1</td>\n",
       "      <td>0.5</td>\n",
       "    </tr>\n",
       "    <tr>\n",
       "      <th>1</th>\n",
       "      <td>1521749832</td>\n",
       "      <td>2023/5/9</td>\n",
       "      <td>cpdd</td>\n",
       "      <td>1</td>\n",
       "      <td>0.5</td>\n",
       "    </tr>\n",
       "    <tr>\n",
       "      <th>2</th>\n",
       "      <td>274740275</td>\n",
       "      <td>2023/5/9</td>\n",
       "      <td>桥牌的谎言是什么意思</td>\n",
       "      <td>0</td>\n",
       "      <td>0.5</td>\n",
       "    </tr>\n",
       "    <tr>\n",
       "      <th>3</th>\n",
       "      <td>4004418265</td>\n",
       "      <td>2023/5/9</td>\n",
       "      <td>“你永远不知道 我假装不在乎的样子有多难受”</td>\n",
       "      <td>0</td>\n",
       "      <td>0.5</td>\n",
       "    </tr>\n",
       "    <tr>\n",
       "      <th>4</th>\n",
       "      <td>560208846</td>\n",
       "      <td>2023/5/9</td>\n",
       "      <td>在这么冷的天?想抽根电子?烟可瑞克没有电可是雪豹已失联摘不下我虚伪的假面几句胡言被奉为圣箴尝...</td>\n",
       "      <td>0</td>\n",
       "      <td>0.5</td>\n",
       "    </tr>\n",
       "  </tbody>\n",
       "</table>\n",
       "</div>"
      ],
      "text/plain": [
       "       userid   timeStr                                            content  \\\n",
       "0   121155230  2023/5/9                                        要黑胶的私我 免费七天   \n",
       "1  1521749832  2023/5/9                                               cpdd   \n",
       "2   274740275  2023/5/9                                         桥牌的谎言是什么意思   \n",
       "3  4004418265  2023/5/9                             “你永远不知道 我假装不在乎的样子有多难受”   \n",
       "4   560208846  2023/5/9  在这么冷的天?想抽根电子?烟可瑞克没有电可是雪豹已失联摘不下我虚伪的假面几句胡言被奉为圣箴尝...   \n",
       "\n",
       "   new_sentiment_label    p  \n",
       "0                    1  0.5  \n",
       "1                    1  0.5  \n",
       "2                    0  0.5  \n",
       "3                    0  0.5  \n",
       "4                    0  0.5  "
      ]
     },
     "execution_count": 112,
     "metadata": {},
     "output_type": "execute_result"
    }
   ],
   "source": [
    "df2.head()"
   ]
  },
  {
   "cell_type": "code",
   "execution_count": 113,
   "metadata": {},
   "outputs": [],
   "source": [
    "df2.to_csv(\"xue_emotion_50.csv\",encoding='utf_8_sig')"
   ]
  }
 ],
 "metadata": {
  "kernelspec": {
   "display_name": "Python 3 (ipykernel)",
   "language": "python",
   "name": "python3"
  },
  "language_info": {
   "codemirror_mode": {
    "name": "ipython",
    "version": 3
   },
   "file_extension": ".py",
   "mimetype": "text/x-python",
   "name": "python",
   "nbconvert_exporter": "python",
   "pygments_lexer": "ipython3",
   "version": "3.10.9"
  }
 },
 "nbformat": 4,
 "nbformat_minor": 2
}
