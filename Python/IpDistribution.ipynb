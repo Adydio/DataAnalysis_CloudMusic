{
 "cells": [
  {
   "cell_type": "code",
   "execution_count": 2,
   "id": "56b924c4",
   "metadata": {},
   "outputs": [],
   "source": [
    "from pyecharts.charts import Map\n",
    "import pandas as pd"
   ]
  },
  {
   "cell_type": "code",
   "execution_count": 3,
   "id": "3a89f24d",
   "metadata": {},
   "outputs": [],
   "source": [
    "def city_group(cityCode):\n",
    "    city_map = {\n",
    "        '11': '北京',\n",
    "        '12': '天津',\n",
    "        '31': '上海',\n",
    "        '50': '重庆',\n",
    "        '5e': '重庆',\n",
    "        '81': '香港',\n",
    "        '82': '澳门',\n",
    "        '13': '河北',\n",
    "        '14': '山西',\n",
    "        '15': '内蒙古',\n",
    "        '21': '辽宁',\n",
    "        '22': '吉林',\n",
    "        '23': '黑龙江',\n",
    "        '32': '江苏',\n",
    "        '33': '浙江',\n",
    "        '34': '安徽',\n",
    "        '35': '福建',\n",
    "        '36': '江西',\n",
    "        '37': '山东',\n",
    "        '41': '河南',\n",
    "        '42': '湖北',\n",
    "        '43': '湖南',\n",
    "        '44': '广东',\n",
    "        '45': '广西',\n",
    "        '46': '海南',\n",
    "        '51': '四川',\n",
    "        '52': '贵州',\n",
    "        '53': '云南',\n",
    "        '54': '西藏',\n",
    "        '61': '陕西',\n",
    "        '62': '甘肃',\n",
    "        '63': '青海',\n",
    "        '64': '宁夏',\n",
    "        '65': '新疆',\n",
    "        '71': '台湾',\n",
    "        '10': '其他',\n",
    "    }\n",
    "    cityCode = str(cityCode)\n",
    "    return city_map[cityCode[:2]]"
   ]
  },
  {
   "cell_type": "code",
   "execution_count": 11,
   "id": "4abc7621",
   "metadata": {},
   "outputs": [],
   "source": [
    "df = pd.read_csv('ip.csv', header=None, names=['ip','x'], encoding='utf-8-sig')\n",
    "df = df.dropna()"
   ]
  },
  {
   "cell_type": "code",
   "execution_count": 14,
   "id": "177a0d5c",
   "metadata": {},
   "outputs": [],
   "source": [
    "loc_message = df.groupby(['ip'])\n",
    "loc_com = loc_message['ip'].agg(['count'])\n",
    "loc_com.reset_index(inplace=True)"
   ]
  },
  {
   "cell_type": "code",
   "execution_count": 16,
   "id": "1f3178f4",
   "metadata": {},
   "outputs": [
    {
     "name": "stdout",
     "output_type": "stream",
     "text": [
      "[1, 1, 1, 1, 1, 1, 1, 1, 1, 1, 1, 1, 1, 1, 1, 1, 1, 1, 1, 1, 1, 1, 1, 1, 1, 1, 1, 1, 1, 1, 1, 1, 1, 1, 1, 1, 1, 1, 1, 1, 1, 1, 1, 1, 1, 1, 1, 1, 1, 1, 1, 1, 1, 1, 1, 1, 1, 1, 1, 1, 1, 1, 1, 1, 1, 1, 1, 1, 1, 1, 1, 1, 1, 1, 1, 1, 1, 1, 1, 1, 1, 1, 1, 1, 1, 1, 1]\n",
      "['ip', '上海', '中国', '中国台湾', '中国澳门', '中国香港', '丹麦', '云南', '俄罗斯', '保加利亚', '内蒙古', '几内亚', '刚果民主共和国', '加拿大', '北京', '南非', '印度尼西亚', '吉林', '哈萨克斯坦', '四川', '坦桑尼亚', '埃及', '塞尔维亚', '天津', '奥地利', '宁夏', '安徽', '尼日利亚', '山东', '山西', '巴拿马', '巴西', '希腊', '广东', '广西', '德国', '意大利', '挪威', '摩尔多瓦', '新加坡', '新疆', '新西兰', '日本', '智利', '未知', '柬埔寨', '比利时', '江苏', '江西', '沙特阿拉伯', '河北', '河南', '法国', '波兰', '泰国', '津巴布韦', '浙江', '海南', '湖北', '湖南', '澳大利亚', '爱尔兰', '瑞士', '瓦努阿图', '甘肃', '白俄罗斯', '福建', '缅甸', '美国', '芬兰', '英国', '荷兰', '菲律宾', '葡萄牙', '西班牙', '西藏', '贵州', '辽宁', '重庆', '阿尔及利亚', '阿联酋', '陕西', '青海', '韩国', '马来西亚', '马耳他', '黑龙江']\n"
     ]
    },
    {
     "ename": "TypeError",
     "evalue": "Chart.__init__() got an unexpected keyword argument 'title_pos'",
     "output_type": "error",
     "traceback": [
      "\u001b[1;31m---------------------------------------------------------------------------\u001b[0m",
      "\u001b[1;31mTypeError\u001b[0m                                 Traceback (most recent call last)",
      "Cell \u001b[1;32mIn[16], line 5\u001b[0m\n\u001b[0;32m      3\u001b[0m \u001b[38;5;28mprint\u001b[39m(value)\n\u001b[0;32m      4\u001b[0m \u001b[38;5;28mprint\u001b[39m(attr)\n\u001b[1;32m----> 5\u001b[0m \u001b[38;5;28mmap\u001b[39m \u001b[38;5;241m=\u001b[39m \u001b[43mMap\u001b[49m\u001b[43m(\u001b[49m\u001b[38;5;124;43m\"\u001b[39;49m\u001b[38;5;124;43m评论用户的地区分布图\u001b[39;49m\u001b[38;5;124;43m\"\u001b[39;49m\u001b[43m,\u001b[49m\u001b[43m \u001b[49m\u001b[43mtitle_pos\u001b[49m\u001b[38;5;241;43m=\u001b[39;49m\u001b[38;5;124;43m'\u001b[39;49m\u001b[38;5;124;43mcenter\u001b[39;49m\u001b[38;5;124;43m'\u001b[39;49m\u001b[43m,\u001b[49m\u001b[43m \u001b[49m\u001b[43mtitle_top\u001b[49m\u001b[38;5;241;43m=\u001b[39;49m\u001b[38;5;241;43m0\u001b[39;49m\u001b[43m)\u001b[49m\n\u001b[0;32m      6\u001b[0m \u001b[38;5;28mmap\u001b[39m\u001b[38;5;241m.\u001b[39madd(\u001b[38;5;124m\"\u001b[39m\u001b[38;5;124m\"\u001b[39m, attr, value, maptype\u001b[38;5;241m=\u001b[39m\u001b[38;5;124m\"\u001b[39m\u001b[38;5;124mchina\u001b[39m\u001b[38;5;124m\"\u001b[39m, is_visualmap\u001b[38;5;241m=\u001b[39m\u001b[38;5;28;01mTrue\u001b[39;00m, visual_text_color\u001b[38;5;241m=\u001b[39m\u001b[38;5;124m\"\u001b[39m\u001b[38;5;124m#000\u001b[39m\u001b[38;5;124m\"\u001b[39m, is_map_symbol_show\u001b[38;5;241m=\u001b[39m\u001b[38;5;28;01mFalse\u001b[39;00m, visual_range\u001b[38;5;241m=\u001b[39m[\u001b[38;5;241m0\u001b[39m, \u001b[38;5;241m60\u001b[39m])\n",
      "\u001b[1;31mTypeError\u001b[0m: Chart.__init__() got an unexpected keyword argument 'title_pos'"
     ]
    }
   ],
   "source": [
    "value = [i for i in loc_com['count']]\n",
    "attr = [i for i in loc_com['ip']]\n",
    "print(value)\n",
    "print(attr)\n",
    "map = Map(\"评论用户的地区分布图\", title_pos='center', title_top=0)\n",
    "map.add(\"\", attr, value, maptype=\"china\", is_visualmap=True, visual_text_color=\"#000\", is_map_symbol_show=False, visual_range=[0, 60])"
   ]
  }
 ],
 "metadata": {
  "kernelspec": {
   "display_name": "Python 3 (ipykernel)",
   "language": "python",
   "name": "python3"
  },
  "language_info": {
   "codemirror_mode": {
    "name": "ipython",
    "version": 3
   },
   "file_extension": ".py",
   "mimetype": "text/x-python",
   "name": "python",
   "nbconvert_exporter": "python",
   "pygments_lexer": "ipython3",
   "version": "3.10.9"
  }
 },
 "nbformat": 4,
 "nbformat_minor": 5
}
