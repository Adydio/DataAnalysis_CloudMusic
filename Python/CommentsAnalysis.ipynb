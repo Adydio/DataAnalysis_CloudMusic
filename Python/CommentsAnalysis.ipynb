{
 "cells": [
  {
   "cell_type": "markdown",
   "metadata": {},
   "source": [
    "# 网易云音乐数据分析\n",
    "\n",
    "## 1.背景\n",
    "\n",
    "### 1.1背景与目标\n",
    "\n",
    "今年四月底，各大网友“册封”华语乐坛“新四大天王”。这四位分别是华晨宇，王琳凯，Capper和姜云升。值得注意的是，这一次“新四大天王”的评选是具有一定审丑性质的。以本文即将分析的Capper的作品《雪distance》和姜云升的作品《真没睡》为例，这两首歌曲都具有歌词质量低、审美价值低的特点，却在近期爆火。我认为这些作品的爆火，与歌手在场下的“迷惑言论”和近期对于这些歌手或者这些作品的负面爆料有关，并且我拟用自己获取的数据证明这一点。\n",
    "\n",
    "网易云音乐是一款火爆的听歌软件，聚集了大量年轻受众。值得一提的是，相比于QQ音乐等一流听歌软件，网易云音乐的评论数往往是前者的好几倍，我认为这其中的原因是微妙而复杂的。作为一位“村龄”五年的网易云音乐深度用户，我认为网易云爆火原因之一就是它善于营造“氛围”。如今的年轻人物质丰富但也面临着前所未有的压力。情感的压抑，生活的不顺让他们诉诸歌曲，寻求慰藉。而网易云音乐创造的“云村”，“抱一抱”等小功能，还有简约不简单的页面设计，小众但精华的曲库，精准的每日推送以及走心的听歌报告给了年轻人最好的答案。而我此次作业的目标，就是结合时事分析华语乐坛“新四大天王”爆火的原因并且给出自己的评价，再通过自己收集的数据，分析网易云音乐这一软件的一些特点。\n",
    "\n",
    "### 1.2数据来源\n",
    "\n",
    "运用python，调用网易云音乐评论的API，整理数据得到Excel文件。部分数据来源于课程群。\n",
    "\n",
    "## 2.获取数据\n",
    "\n",
    "参见`pre-processing.ipynb`这是调用API后再用自己编写的函数整合复杂的嵌套`json`文件得到的结果，代码是经过高度简化的，原理上利用我的这些代码可以获取网易云音乐任何一首歌曲的所有评论。\n",
    "另外一部分是课程群里的数据，在data文件夹中。\n",
    "\n",
    "## 3.数据读取与分析"
   ]
  },
  {
   "cell_type": "code",
   "execution_count": 1,
   "metadata": {},
   "outputs": [],
   "source": [
    "import pandas as pd\n",
    "import numpy as np\n",
    "import matplotlib.pyplot as plt\n",
    "import seaborn as sns\n",
    "from pyecharts.charts import Line"
   ]
  },
  {
   "cell_type": "code",
   "execution_count": 2,
   "metadata": {},
   "outputs": [
    {
     "data": {
      "text/html": [
       "<div>\n",
       "<style scoped>\n",
       "    .dataframe tbody tr th:only-of-type {\n",
       "        vertical-align: middle;\n",
       "    }\n",
       "\n",
       "    .dataframe tbody tr th {\n",
       "        vertical-align: top;\n",
       "    }\n",
       "\n",
       "    .dataframe thead th {\n",
       "        text-align: right;\n",
       "    }\n",
       "</style>\n",
       "<table border=\"1\" class=\"dataframe\">\n",
       "  <thead>\n",
       "    <tr style=\"text-align: right;\">\n",
       "      <th></th>\n",
       "      <th>Unnamed: 0</th>\n",
       "      <th>Unnamed: 0.1</th>\n",
       "      <th>user.userId</th>\n",
       "      <th>commentId</th>\n",
       "      <th>user.nickname</th>\n",
       "      <th>content</th>\n",
       "      <th>timeStr</th>\n",
       "      <th>likedCount</th>\n",
       "      <th>ipLocation.location</th>\n",
       "      <th>time</th>\n",
       "    </tr>\n",
       "  </thead>\n",
       "  <tbody>\n",
       "    <tr>\n",
       "      <th>0</th>\n",
       "      <td>0</td>\n",
       "      <td>0</td>\n",
       "      <td>121155230</td>\n",
       "      <td>5.903777e+09</td>\n",
       "      <td>奄忽若飘尘_</td>\n",
       "      <td>要黑胶的私我 免费七天</td>\n",
       "      <td>2023/5/9</td>\n",
       "      <td>0.0</td>\n",
       "      <td>福建</td>\n",
       "      <td>1.683600e+12</td>\n",
       "    </tr>\n",
       "    <tr>\n",
       "      <th>1</th>\n",
       "      <td>1</td>\n",
       "      <td>1</td>\n",
       "      <td>1521749832</td>\n",
       "      <td>5.903773e+09</td>\n",
       "      <td>X-难忘缘</td>\n",
       "      <td>cpdd</td>\n",
       "      <td>2023/5/9</td>\n",
       "      <td>0.0</td>\n",
       "      <td>河南</td>\n",
       "      <td>1.683600e+12</td>\n",
       "    </tr>\n",
       "    <tr>\n",
       "      <th>2</th>\n",
       "      <td>2</td>\n",
       "      <td>2</td>\n",
       "      <td>274740275</td>\n",
       "      <td>5.903777e+09</td>\n",
       "      <td>ahhSherry</td>\n",
       "      <td>桥牌的谎言是什么意思</td>\n",
       "      <td>2023/5/9</td>\n",
       "      <td>1.0</td>\n",
       "      <td>江苏</td>\n",
       "      <td>1.683600e+12</td>\n",
       "    </tr>\n",
       "    <tr>\n",
       "      <th>3</th>\n",
       "      <td>3</td>\n",
       "      <td>3</td>\n",
       "      <td>4004418265</td>\n",
       "      <td>5.903773e+09</td>\n",
       "      <td>_-雾川-_</td>\n",
       "      <td>“你永远不知道 我假装不在乎的样子有多难受”</td>\n",
       "      <td>2023/5/9</td>\n",
       "      <td>1.0</td>\n",
       "      <td>广东</td>\n",
       "      <td>1.683600e+12</td>\n",
       "    </tr>\n",
       "    <tr>\n",
       "      <th>4</th>\n",
       "      <td>4</td>\n",
       "      <td>4</td>\n",
       "      <td>560208846</td>\n",
       "      <td>5.903775e+09</td>\n",
       "      <td>苏苒卿</td>\n",
       "      <td>在这么冷的天\\n?想抽根电子?烟\\n可瑞克没有电\\n可是雪豹已失联\\n摘不下我虚伪的假面\\n...</td>\n",
       "      <td>2023/5/9</td>\n",
       "      <td>7.0</td>\n",
       "      <td>江苏</td>\n",
       "      <td>1.683600e+12</td>\n",
       "    </tr>\n",
       "  </tbody>\n",
       "</table>\n",
       "</div>"
      ],
      "text/plain": [
       "   Unnamed: 0 Unnamed: 0.1 user.userId     commentId user.nickname  \\\n",
       "0           0            0   121155230  5.903777e+09        奄忽若飘尘_   \n",
       "1           1            1  1521749832  5.903773e+09         X-难忘缘   \n",
       "2           2            2   274740275  5.903777e+09     ahhSherry   \n",
       "3           3            3  4004418265  5.903773e+09        _-雾川-_   \n",
       "4           4            4   560208846  5.903775e+09           苏苒卿   \n",
       "\n",
       "                                             content   timeStr  likedCount  \\\n",
       "0                                        要黑胶的私我 免费七天  2023/5/9         0.0   \n",
       "1                                               cpdd  2023/5/9         0.0   \n",
       "2                                         桥牌的谎言是什么意思  2023/5/9         1.0   \n",
       "3                             “你永远不知道 我假装不在乎的样子有多难受”  2023/5/9         1.0   \n",
       "4  在这么冷的天\\n?想抽根电子?烟\\n可瑞克没有电\\n可是雪豹已失联\\n摘不下我虚伪的假面\\n...  2023/5/9         7.0   \n",
       "\n",
       "  ipLocation.location          time  \n",
       "0                  福建  1.683600e+12  \n",
       "1                  河南  1.683600e+12  \n",
       "2                  江苏  1.683600e+12  \n",
       "3                  广东  1.683600e+12  \n",
       "4                  江苏  1.683600e+12  "
      ]
     },
     "execution_count": 2,
     "metadata": {},
     "output_type": "execute_result"
    }
   ],
   "source": [
    "xue_distance = pd. read_csv(\"xue_distance_new.csv\", low_memory=False, encoding='utf-8')\n",
    "xue_distance.head()"
   ]
  },
  {
   "cell_type": "code",
   "execution_count": 3,
   "metadata": {
    "scrolled": true
   },
   "outputs": [
    {
     "data": {
      "text/html": [
       "<div>\n",
       "<style scoped>\n",
       "    .dataframe tbody tr th:only-of-type {\n",
       "        vertical-align: middle;\n",
       "    }\n",
       "\n",
       "    .dataframe tbody tr th {\n",
       "        vertical-align: top;\n",
       "    }\n",
       "\n",
       "    .dataframe thead th {\n",
       "        text-align: right;\n",
       "    }\n",
       "</style>\n",
       "<table border=\"1\" class=\"dataframe\">\n",
       "  <thead>\n",
       "    <tr style=\"text-align: right;\">\n",
       "      <th></th>\n",
       "      <th>Unnamed: 0</th>\n",
       "      <th>user.userId</th>\n",
       "      <th>commentId</th>\n",
       "      <th>user.nickname</th>\n",
       "      <th>content</th>\n",
       "      <th>timeStr</th>\n",
       "      <th>likedCount</th>\n",
       "      <th>ipLocation.location</th>\n",
       "      <th>time</th>\n",
       "    </tr>\n",
       "  </thead>\n",
       "  <tbody>\n",
       "    <tr>\n",
       "      <th>0</th>\n",
       "      <td>0</td>\n",
       "      <td>286640087</td>\n",
       "      <td>5.903699e+09</td>\n",
       "      <td>yzbbby</td>\n",
       "      <td>怎么写出这个歌的 有种脑干缺失的美</td>\n",
       "      <td>2023/5/9</td>\n",
       "      <td>6.0</td>\n",
       "      <td>重庆</td>\n",
       "      <td>1.683570e+12</td>\n",
       "    </tr>\n",
       "    <tr>\n",
       "      <th>1</th>\n",
       "      <td>1</td>\n",
       "      <td>1393536394</td>\n",
       "      <td>5.903580e+09</td>\n",
       "      <td>鸭脖怒锤键盘</td>\n",
       "      <td>很喜欢NF的一句话\\nOh snap\\nThis is the industry\\n这就是这...</td>\n",
       "      <td>2023/5/8</td>\n",
       "      <td>1.0</td>\n",
       "      <td>北京</td>\n",
       "      <td>1.683560e+12</td>\n",
       "    </tr>\n",
       "    <tr>\n",
       "      <th>2</th>\n",
       "      <td>2</td>\n",
       "      <td>8309885146</td>\n",
       "      <td>5.903577e+09</td>\n",
       "      <td>一只永远没有烦恼的小兔子</td>\n",
       "      <td>不说姜云升这个人 就是这首歌真的 歌词让我感觉十分生理不适 从头到尾没能理解在说什么</td>\n",
       "      <td>2023/5/8</td>\n",
       "      <td>3.0</td>\n",
       "      <td>广东</td>\n",
       "      <td>1.683560e+12</td>\n",
       "    </tr>\n",
       "    <tr>\n",
       "      <th>3</th>\n",
       "      <td>3</td>\n",
       "      <td>4946005034</td>\n",
       "      <td>5.903535e+09</td>\n",
       "      <td>不觉恋依</td>\n",
       "      <td>看到大家都在骂我就放心了[爱心]</td>\n",
       "      <td>2023/5/8</td>\n",
       "      <td>4.0</td>\n",
       "      <td>江苏</td>\n",
       "      <td>1.683550e+12</td>\n",
       "    </tr>\n",
       "    <tr>\n",
       "      <th>4</th>\n",
       "      <td>4</td>\n",
       "      <td>593231654</td>\n",
       "      <td>5.903537e+09</td>\n",
       "      <td>fn12__</td>\n",
       "      <td>唱成英文歌夸的人就多了</td>\n",
       "      <td>2023/5/8</td>\n",
       "      <td>2.0</td>\n",
       "      <td>北京</td>\n",
       "      <td>1.683550e+12</td>\n",
       "    </tr>\n",
       "  </tbody>\n",
       "</table>\n",
       "</div>"
      ],
      "text/plain": [
       "  Unnamed: 0 user.userId     commentId user.nickname  \\\n",
       "0          0   286640087  5.903699e+09        yzbbby   \n",
       "1          1  1393536394  5.903580e+09        鸭脖怒锤键盘   \n",
       "2          2  8309885146  5.903577e+09  一只永远没有烦恼的小兔子   \n",
       "3          3  4946005034  5.903535e+09          不觉恋依   \n",
       "4          4   593231654  5.903537e+09        fn12__   \n",
       "\n",
       "                                             content   timeStr  likedCount  \\\n",
       "0                                  怎么写出这个歌的 有种脑干缺失的美  2023/5/9         6.0   \n",
       "1  很喜欢NF的一句话\\nOh snap\\nThis is the industry\\n这就是这...  2023/5/8         1.0   \n",
       "2         不说姜云升这个人 就是这首歌真的 歌词让我感觉十分生理不适 从头到尾没能理解在说什么  2023/5/8         3.0   \n",
       "3                                   看到大家都在骂我就放心了[爱心]  2023/5/8         4.0   \n",
       "4                                        唱成英文歌夸的人就多了  2023/5/8         2.0   \n",
       "\n",
       "  ipLocation.location          time  \n",
       "0                  重庆  1.683570e+12  \n",
       "1                  北京  1.683560e+12  \n",
       "2                  广东  1.683560e+12  \n",
       "3                  江苏  1.683550e+12  \n",
       "4                  北京  1.683550e+12  "
      ]
     },
     "execution_count": 3,
     "metadata": {},
     "output_type": "execute_result"
    }
   ],
   "source": [
    "zms = pd. read_csv(\"zms_new.csv\", low_memory=False)\n",
    "zms.head()"
   ]
  },
  {
   "cell_type": "markdown",
   "metadata": {},
   "source": [
    "修改数据类型："
   ]
  },
  {
   "cell_type": "code",
   "execution_count": 4,
   "metadata": {},
   "outputs": [
    {
     "data": {
      "text/html": [
       "<div>\n",
       "<style scoped>\n",
       "    .dataframe tbody tr th:only-of-type {\n",
       "        vertical-align: middle;\n",
       "    }\n",
       "\n",
       "    .dataframe tbody tr th {\n",
       "        vertical-align: top;\n",
       "    }\n",
       "\n",
       "    .dataframe thead th {\n",
       "        text-align: right;\n",
       "    }\n",
       "</style>\n",
       "<table border=\"1\" class=\"dataframe\">\n",
       "  <thead>\n",
       "    <tr style=\"text-align: right;\">\n",
       "      <th></th>\n",
       "      <th>Unnamed: 0</th>\n",
       "      <th>Unnamed: 0.1</th>\n",
       "      <th>user.userId</th>\n",
       "      <th>commentId</th>\n",
       "      <th>user.nickname</th>\n",
       "      <th>content</th>\n",
       "      <th>timeStr</th>\n",
       "      <th>likedCount</th>\n",
       "      <th>ipLocation.location</th>\n",
       "      <th>time</th>\n",
       "    </tr>\n",
       "  </thead>\n",
       "  <tbody>\n",
       "    <tr>\n",
       "      <th>0</th>\n",
       "      <td>0</td>\n",
       "      <td>0</td>\n",
       "      <td>121155230</td>\n",
       "      <td>5903776878</td>\n",
       "      <td>奄忽若飘尘_</td>\n",
       "      <td>要黑胶的私我 免费七天</td>\n",
       "      <td>2023/5/9</td>\n",
       "      <td>0</td>\n",
       "      <td>福建</td>\n",
       "      <td>1683600117737</td>\n",
       "    </tr>\n",
       "    <tr>\n",
       "      <th>1</th>\n",
       "      <td>1</td>\n",
       "      <td>1</td>\n",
       "      <td>1521749832</td>\n",
       "      <td>5903773430</td>\n",
       "      <td>X-难忘缘</td>\n",
       "      <td>cpdd</td>\n",
       "      <td>2023/5/9</td>\n",
       "      <td>0</td>\n",
       "      <td>河南</td>\n",
       "      <td>1683599782944</td>\n",
       "    </tr>\n",
       "    <tr>\n",
       "      <th>2</th>\n",
       "      <td>2</td>\n",
       "      <td>2</td>\n",
       "      <td>274740275</td>\n",
       "      <td>5903776921</td>\n",
       "      <td>ahhSherry</td>\n",
       "      <td>桥牌的谎言是什么意思</td>\n",
       "      <td>2023/5/9</td>\n",
       "      <td>1</td>\n",
       "      <td>江苏</td>\n",
       "      <td>1683599766735</td>\n",
       "    </tr>\n",
       "    <tr>\n",
       "      <th>3</th>\n",
       "      <td>3</td>\n",
       "      <td>3</td>\n",
       "      <td>4004418265</td>\n",
       "      <td>5903772551</td>\n",
       "      <td>_-雾川-_</td>\n",
       "      <td>“你永远不知道 我假装不在乎的样子有多难受”</td>\n",
       "      <td>2023/5/9</td>\n",
       "      <td>1</td>\n",
       "      <td>广东</td>\n",
       "      <td>1683599528411</td>\n",
       "    </tr>\n",
       "    <tr>\n",
       "      <th>4</th>\n",
       "      <td>4</td>\n",
       "      <td>4</td>\n",
       "      <td>560208846</td>\n",
       "      <td>5903775167</td>\n",
       "      <td>苏苒卿</td>\n",
       "      <td>在这么冷的天\\n?想抽根电子?烟\\n可瑞克没有电\\n可是雪豹已失联\\n摘不下我虚伪的假面\\n...</td>\n",
       "      <td>2023/5/9</td>\n",
       "      <td>7</td>\n",
       "      <td>江苏</td>\n",
       "      <td>1683600000000</td>\n",
       "    </tr>\n",
       "  </tbody>\n",
       "</table>\n",
       "</div>"
      ],
      "text/plain": [
       "   Unnamed: 0 Unnamed: 0.1 user.userId   commentId user.nickname  \\\n",
       "0           0            0   121155230  5903776878        奄忽若飘尘_   \n",
       "1           1            1  1521749832  5903773430         X-难忘缘   \n",
       "2           2            2   274740275  5903776921     ahhSherry   \n",
       "3           3            3  4004418265  5903772551        _-雾川-_   \n",
       "4           4            4   560208846  5903775167           苏苒卿   \n",
       "\n",
       "                                             content   timeStr  likedCount  \\\n",
       "0                                        要黑胶的私我 免费七天  2023/5/9           0   \n",
       "1                                               cpdd  2023/5/9           0   \n",
       "2                                         桥牌的谎言是什么意思  2023/5/9           1   \n",
       "3                             “你永远不知道 我假装不在乎的样子有多难受”  2023/5/9           1   \n",
       "4  在这么冷的天\\n?想抽根电子?烟\\n可瑞克没有电\\n可是雪豹已失联\\n摘不下我虚伪的假面\\n...  2023/5/9           7   \n",
       "\n",
       "  ipLocation.location           time  \n",
       "0                  福建  1683600117737  \n",
       "1                  河南  1683599782944  \n",
       "2                  江苏  1683599766735  \n",
       "3                  广东  1683599528411  \n",
       "4                  江苏  1683600000000  "
      ]
     },
     "execution_count": 4,
     "metadata": {},
     "output_type": "execute_result"
    }
   ],
   "source": [
    "xue_distance['commentId'] = xue_distance['commentId'].apply('int64')\n",
    "xue_distance['likedCount'] = xue_distance['likedCount'].apply('int64')\n",
    "xue_distance['time'] = xue_distance['time'].apply('int64')\n",
    "xue_distance.head()"
   ]
  },
  {
   "cell_type": "code",
   "execution_count": 5,
   "metadata": {},
   "outputs": [
    {
     "data": {
      "text/html": [
       "<div>\n",
       "<style scoped>\n",
       "    .dataframe tbody tr th:only-of-type {\n",
       "        vertical-align: middle;\n",
       "    }\n",
       "\n",
       "    .dataframe tbody tr th {\n",
       "        vertical-align: top;\n",
       "    }\n",
       "\n",
       "    .dataframe thead th {\n",
       "        text-align: right;\n",
       "    }\n",
       "</style>\n",
       "<table border=\"1\" class=\"dataframe\">\n",
       "  <thead>\n",
       "    <tr style=\"text-align: right;\">\n",
       "      <th></th>\n",
       "      <th>Unnamed: 0</th>\n",
       "      <th>user.userId</th>\n",
       "      <th>commentId</th>\n",
       "      <th>user.nickname</th>\n",
       "      <th>content</th>\n",
       "      <th>timeStr</th>\n",
       "      <th>likedCount</th>\n",
       "      <th>ipLocation.location</th>\n",
       "      <th>time</th>\n",
       "    </tr>\n",
       "  </thead>\n",
       "  <tbody>\n",
       "    <tr>\n",
       "      <th>0</th>\n",
       "      <td>0</td>\n",
       "      <td>286640087</td>\n",
       "      <td>5903698626</td>\n",
       "      <td>yzbbby</td>\n",
       "      <td>怎么写出这个歌的 有种脑干缺失的美</td>\n",
       "      <td>2023/5/9</td>\n",
       "      <td>6</td>\n",
       "      <td>重庆</td>\n",
       "      <td>1683570000000</td>\n",
       "    </tr>\n",
       "    <tr>\n",
       "      <th>1</th>\n",
       "      <td>1</td>\n",
       "      <td>1393536394</td>\n",
       "      <td>5903580244</td>\n",
       "      <td>鸭脖怒锤键盘</td>\n",
       "      <td>很喜欢NF的一句话\\nOh snap\\nThis is the industry\\n这就是这...</td>\n",
       "      <td>2023/5/8</td>\n",
       "      <td>1</td>\n",
       "      <td>北京</td>\n",
       "      <td>1683560000000</td>\n",
       "    </tr>\n",
       "    <tr>\n",
       "      <th>2</th>\n",
       "      <td>2</td>\n",
       "      <td>8309885146</td>\n",
       "      <td>5903576632</td>\n",
       "      <td>一只永远没有烦恼的小兔子</td>\n",
       "      <td>不说姜云升这个人 就是这首歌真的 歌词让我感觉十分生理不适 从头到尾没能理解在说什么</td>\n",
       "      <td>2023/5/8</td>\n",
       "      <td>3</td>\n",
       "      <td>广东</td>\n",
       "      <td>1683560000000</td>\n",
       "    </tr>\n",
       "    <tr>\n",
       "      <th>3</th>\n",
       "      <td>3</td>\n",
       "      <td>4946005034</td>\n",
       "      <td>5903534706</td>\n",
       "      <td>不觉恋依</td>\n",
       "      <td>看到大家都在骂我就放心了[爱心]</td>\n",
       "      <td>2023/5/8</td>\n",
       "      <td>4</td>\n",
       "      <td>江苏</td>\n",
       "      <td>1683550000000</td>\n",
       "    </tr>\n",
       "    <tr>\n",
       "      <th>4</th>\n",
       "      <td>4</td>\n",
       "      <td>593231654</td>\n",
       "      <td>5903537057</td>\n",
       "      <td>fn12__</td>\n",
       "      <td>唱成英文歌夸的人就多了</td>\n",
       "      <td>2023/5/8</td>\n",
       "      <td>2</td>\n",
       "      <td>北京</td>\n",
       "      <td>1683550000000</td>\n",
       "    </tr>\n",
       "  </tbody>\n",
       "</table>\n",
       "</div>"
      ],
      "text/plain": [
       "  Unnamed: 0 user.userId   commentId user.nickname  \\\n",
       "0          0   286640087  5903698626        yzbbby   \n",
       "1          1  1393536394  5903580244        鸭脖怒锤键盘   \n",
       "2          2  8309885146  5903576632  一只永远没有烦恼的小兔子   \n",
       "3          3  4946005034  5903534706          不觉恋依   \n",
       "4          4   593231654  5903537057        fn12__   \n",
       "\n",
       "                                             content   timeStr  likedCount  \\\n",
       "0                                  怎么写出这个歌的 有种脑干缺失的美  2023/5/9           6   \n",
       "1  很喜欢NF的一句话\\nOh snap\\nThis is the industry\\n这就是这...  2023/5/8           1   \n",
       "2         不说姜云升这个人 就是这首歌真的 歌词让我感觉十分生理不适 从头到尾没能理解在说什么  2023/5/8           3   \n",
       "3                                   看到大家都在骂我就放心了[爱心]  2023/5/8           4   \n",
       "4                                        唱成英文歌夸的人就多了  2023/5/8           2   \n",
       "\n",
       "  ipLocation.location           time  \n",
       "0                  重庆  1683570000000  \n",
       "1                  北京  1683560000000  \n",
       "2                  广东  1683560000000  \n",
       "3                  江苏  1683550000000  \n",
       "4                  北京  1683550000000  "
      ]
     },
     "execution_count": 5,
     "metadata": {},
     "output_type": "execute_result"
    }
   ],
   "source": [
    "zms['commentId'] = zms['commentId'].apply('int64')\n",
    "zms['likedCount'] = zms['likedCount'].apply('int64')\n",
    "zms['time'] = zms['time'].apply('int64')\n",
    "zms.head()"
   ]
  },
  {
   "cell_type": "code",
   "execution_count": 6,
   "metadata": {},
   "outputs": [],
   "source": [
    "date_comments = xue_distance.groupby(['timeStr'])\n",
    "date_com = date_comments['timeStr'].agg(['count'])\n",
    "date_com.reset_index(inplace=True)"
   ]
  },
  {
   "cell_type": "code",
   "execution_count": 7,
   "metadata": {},
   "outputs": [
    {
     "data": {
      "text/plain": [
       "<matplotlib.axes._subplots.AxesSubplot at 0x250db5a5f98>"
      ]
     },
     "execution_count": 7,
     "metadata": {},
     "output_type": "execute_result"
    },
    {
     "data": {
      "image/png": "[encoded data removed]",
      "text/plain": [
       "<Figure size 432x288 with 1 Axes>"
      ]
     },
     "metadata": {
      "needs_background": "light"
     },
     "output_type": "display_data"
    }
   ],
   "source": [
    "sns.lineplot(x=\"timeStr\", y=\"count\", data=date_com, markers=True)"
   ]
  },
  {
   "cell_type": "code",
   "execution_count": 8,
   "metadata": {},
   "outputs": [
    {
     "name": "stdout",
     "output_type": "stream",
     "text": [
      "      user.userId  count\n",
      "60921  8455015649    129\n",
      "38788  3963628262    114\n",
      "57407  7890401962    103\n",
      "60681  8430449562    100\n",
      "47858  5114176147     95\n",
      "21194  1930671410     93\n",
      "51681   566213081     85\n",
      "4040   1366699586     79\n",
      "50107   541063310     79\n",
      "54099   622107542     75\n",
      "20904  1923260533     75\n",
      "47797  5111163569     71\n",
      "45421  4945096989     71\n",
      "31535  3327610983     70\n",
      "54275   625745696     67\n",
      "61206  8473380483     66\n",
      "14228  1681335566     66\n",
      "21819  1956659800     60\n",
      "24961  2131321920     56\n",
      "61031  8460446466     53\n"
     ]
    }
   ],
   "source": [
    "user_comments = xue_distance.groupby(['user.userId'])\n",
    "user_com = user_comments['user.userId'].agg(['count'])\n",
    "user_com.reset_index(inplace=True)\n",
    "user_com_last = user_com.sort_values('count', ascending=False)[0:20]\n",
    "print(user_com_last)"
   ]
  },
  {
   "cell_type": "code",
   "execution_count": 9,
   "metadata": {},
   "outputs": [
    {
     "data": {
      "text/plain": [
       "<matplotlib.axes._subplots.AxesSubplot at 0x250d945ba58>"
      ]
     },
     "execution_count": 9,
     "metadata": {},
     "output_type": "execute_result"
    },
    {
     "data": {
      "image/png": "[encoded data removed]",
      "text/plain": [
       "<Figure size 432x288 with 1 Axes>"
      ]
     },
     "metadata": {
      "needs_background": "light"
     },
     "output_type": "display_data"
    }
   ],
   "source": [
    "sns.distplot(date_com['count'], rug=True)"
   ]
  },
  {
   "cell_type": "markdown",
   "metadata": {},
   "source": [
    "下面我们来生成词云，看看歌曲评论的关键词有哪些。"
   ]
  },
  {
   "cell_type": "code",
   "execution_count": 10,
   "metadata": {},
   "outputs": [
    {
     "ename": "ModuleNotFoundError",
     "evalue": "No module named '_typeshed'",
     "output_type": "error",
     "traceback": [
      "\u001b[1;31m---------------------------------------------------------------------------\u001b[0m",
      "\u001b[1;31mModuleNotFoundError\u001b[0m                       Traceback (most recent call last)",
      "\u001b[1;32m<ipython-input-10-de7237b2972f>\u001b[0m in \u001b[0;36m<module>\u001b[1;34m()\u001b[0m\n\u001b[1;32m----> 1\u001b[1;33m \u001b[1;32mfrom\u001b[0m \u001b[0mwordcloud\u001b[0m \u001b[1;32mimport\u001b[0m \u001b[0mWordCloud\u001b[0m\u001b[1;33m\u001b[0m\u001b[0m\n\u001b[0m\u001b[0;32m      2\u001b[0m \u001b[1;32mimport\u001b[0m \u001b[0mrandom\u001b[0m\u001b[1;33m\u001b[0m\u001b[0m\n\u001b[0;32m      3\u001b[0m \u001b[1;32mimport\u001b[0m \u001b[0mjieba\u001b[0m\u001b[1;33m\u001b[0m\u001b[0m\n",
      "\u001b[1;32mC:\\ProgramData\\Anaconda3\\lib\\site-packages\\wordcloud\\__init__.py\u001b[0m in \u001b[0;36m<module>\u001b[1;34m()\u001b[0m\n\u001b[1;32m----> 1\u001b[1;33m from .wordcloud import (WordCloud, STOPWORDS, random_color_func,\n\u001b[0m\u001b[0;32m      2\u001b[0m                         get_single_color_func)\n\u001b[0;32m      3\u001b[0m \u001b[1;32mfrom\u001b[0m \u001b[1;33m.\u001b[0m\u001b[0mcolor_from_image\u001b[0m \u001b[1;32mimport\u001b[0m \u001b[0mImageColorGenerator\u001b[0m\u001b[1;33m\u001b[0m\u001b[0m\n\u001b[0;32m      4\u001b[0m \u001b[1;33m\u001b[0m\u001b[0m\n\u001b[0;32m      5\u001b[0m __all__ = ['WordCloud', 'STOPWORDS', 'random_color_func',\n",
      "\u001b[1;32mC:\\ProgramData\\Anaconda3\\lib\\site-packages\\wordcloud\\wordcloud.py\u001b[0m in \u001b[0;36m<module>\u001b[1;34m()\u001b[0m\n\u001b[0;32m     24\u001b[0m \u001b[1;32mfrom\u001b[0m \u001b[0mPIL\u001b[0m \u001b[1;32mimport\u001b[0m \u001b[0mImage\u001b[0m\u001b[1;33m\u001b[0m\u001b[0m\n\u001b[0;32m     25\u001b[0m \u001b[1;32mfrom\u001b[0m \u001b[0mPIL\u001b[0m \u001b[1;32mimport\u001b[0m \u001b[0mImageColor\u001b[0m\u001b[1;33m\u001b[0m\u001b[0m\n\u001b[1;32m---> 26\u001b[1;33m \u001b[1;32mfrom\u001b[0m \u001b[0mPIL\u001b[0m \u001b[1;32mimport\u001b[0m \u001b[0mImageDraw\u001b[0m\u001b[1;33m\u001b[0m\u001b[0m\n\u001b[0m\u001b[0;32m     27\u001b[0m \u001b[1;32mfrom\u001b[0m \u001b[0mPIL\u001b[0m \u001b[1;32mimport\u001b[0m \u001b[0mImageFilter\u001b[0m\u001b[1;33m\u001b[0m\u001b[0m\n\u001b[0;32m     28\u001b[0m \u001b[1;32mfrom\u001b[0m \u001b[0mPIL\u001b[0m \u001b[1;32mimport\u001b[0m \u001b[0mImageFont\u001b[0m\u001b[1;33m\u001b[0m\u001b[0m\n",
      "\u001b[1;32mC:\\ProgramData\\Anaconda3\\lib\\site-packages\\PIL\\ImageDraw.py\u001b[0m in \u001b[0;36m<module>\u001b[1;34m()\u001b[0m\n\u001b[1;32m----> 1\u001b[1;33m \u001b[1;32mfrom\u001b[0m \u001b[0m_typeshed\u001b[0m \u001b[1;32mimport\u001b[0m \u001b[0mIncomplete\u001b[0m\u001b[1;33m\u001b[0m\u001b[0m\n\u001b[0m\u001b[0;32m      2\u001b[0m \u001b[1;32mfrom\u001b[0m \u001b[0mcollections\u001b[0m\u001b[1;33m.\u001b[0m\u001b[0mabc\u001b[0m \u001b[1;32mimport\u001b[0m \u001b[0mContainer\u001b[0m\u001b[1;33m,\u001b[0m \u001b[0mSequence\u001b[0m\u001b[1;33m\u001b[0m\u001b[0m\n\u001b[0;32m      3\u001b[0m \u001b[1;32mfrom\u001b[0m \u001b[0mtyping\u001b[0m \u001b[1;32mimport\u001b[0m \u001b[0mAny\u001b[0m\u001b[1;33m,\u001b[0m \u001b[0moverload\u001b[0m\u001b[1;33m\u001b[0m\u001b[0m\n\u001b[0;32m      4\u001b[0m \u001b[1;32mfrom\u001b[0m \u001b[0mtyping_extensions\u001b[0m \u001b[1;32mimport\u001b[0m \u001b[0mLiteral\u001b[0m\u001b[1;33m,\u001b[0m \u001b[0mTypeAlias\u001b[0m\u001b[1;33m\u001b[0m\u001b[0m\n\u001b[0;32m      5\u001b[0m \u001b[1;33m\u001b[0m\u001b[0m\n",
      "\u001b[1;31mModuleNotFoundError\u001b[0m: No module named '_typeshed'"
     ]
    }
   ],
   "source": [
    "from wordcloud import WordCloud\n",
    "import random\n",
    "import jieba"
   ]
  },
  {
   "cell_type": "code",
   "execution_count": null,
   "metadata": {},
   "outputs": [],
   "source": [
    "def random_color_func(word=None, font_size=None, position=None, orientation=None, font_path=None, random_state=None):\n",
    "    h, s, l = random.choice([(188, 72, 53), (253, 63, 56), (12, 78, 69)])\n",
    "    return \"hsl({}, {}%, {}%)\".format(h, s, l)"
   ]
  },
  {
   "cell_type": "code",
   "execution_count": null,
   "metadata": {},
   "outputs": [],
   "source": [
    "words = pd.read_csv('stopwords.txt', encoding='utf-8', sep='\\t', names=['stopword'])"
   ]
  },
  {
   "cell_type": "code",
   "execution_count": null,
   "metadata": {},
   "outputs": [],
   "source": [
    "text = ''\n",
    "for line in xue_distance['content']:\n",
    "    text += ' '.join(jieba.cut(str(line), cut_all=False))\n",
    "stopwords = set('')\n",
    "stopwords.update(words['stopword'])"
   ]
  },
  {
   "cell_type": "code",
   "execution_count": null,
   "metadata": {},
   "outputs": [],
   "source": [
    "wc = WordCloud(\n",
    "    background_color='white',\n",
    "    max_words=2000,\n",
    "    max_font_size=250,\n",
    "    min_font_size=15,\n",
    "    font_path = \"msyh.ttc\",\n",
    "    color_func=random_color_func,\n",
    "    prefer_horizontal=1,\n",
    "    random_state=50,\n",
    "    stopwords=stopwords\n",
    ")\n",
    "wc.generate(text)"
   ]
  }
 ],
 "metadata": {
  "kernelspec": {
   "display_name": "Python 3",
   "language": "python",
   "name": "python3"
  },
  "language_info": {
   "codemirror_mode": {
    "name": "ipython",
    "version": 3
   },
   "file_extension": ".py",
   "mimetype": "text/x-python",
   "name": "python",
   "nbconvert_exporter": "python",
   "pygments_lexer": "ipython3",
   "version": "3.7.0"
  }
 },
 "nbformat": 4,
 "nbformat_minor": 2
}
