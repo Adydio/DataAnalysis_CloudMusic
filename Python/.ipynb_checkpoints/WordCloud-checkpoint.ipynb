{
 "cells": [
  {
   "cell_type": "code",
   "execution_count": 82,
   "id": "35eec9f5",
   "metadata": {},
   "outputs": [],
   "source": [
    "import paddlehub as hub\n",
    "import pandas as pd\n",
    "import imageio"
   ]
  },
  {
   "cell_type": "code",
   "execution_count": 83,
   "id": "2e863083",
   "metadata": {},
   "outputs": [],
   "source": [
    "import re\n",
    "cop = re.compile(\"[^\\u4e00-\\u9fa5^a-z^A-Z^0-9]\")"
   ]
  },
  {
   "cell_type": "code",
   "execution_count": 84,
   "id": "0e921e11",
   "metadata": {},
   "outputs": [],
   "source": [
    "mask = imageio.imread(\"wyy.png\")"
   ]
  },
  {
   "cell_type": "code",
   "execution_count": 85,
   "id": "65c0b544",
   "metadata": {},
   "outputs": [],
   "source": [
    "df = pd.read_csv(\"xue_distance_march.csv\")['content']"
   ]
  },
  {
   "cell_type": "code",
   "execution_count": 86,
   "id": "f01821e7",
   "metadata": {},
   "outputs": [],
   "source": [
    "test_text = df.tolist()\n",
    "for i in range(len(test_text)):\n",
    "    test_text[i] = str(test_text[i])\n",
    "    test_text[i] = cop.sub('', test_text[i])"
   ]
  },
  {
   "cell_type": "code",
   "execution_count": 87,
   "id": "70578e52",
   "metadata": {},
   "outputs": [],
   "source": [
    "lac = hub.Module(name=\"lac\") # 加载模型"
   ]
  },
  {
   "cell_type": "code",
   "execution_count": 88,
   "id": "b1a3bbbd",
   "metadata": {},
   "outputs": [],
   "source": [
    "results = lac.cut(text=test_text, use_gpu=False, batch_size=1, return_tag=True)"
   ]
  },
  {
   "cell_type": "code",
   "execution_count": 89,
   "id": "cf60149c",
   "metadata": {},
   "outputs": [],
   "source": [
    "result_word_list = []\n",
    "for result in results:\n",
    "    result_word_list.extend(result[\"word\"])"
   ]
  },
  {
   "cell_type": "code",
   "execution_count": 90,
   "id": "24e35861",
   "metadata": {},
   "outputs": [],
   "source": [
    "# 载入停用词数据\n",
    "with open(\"stopwords.txt\",\"r\",encoding=\"utf-8\") as f:\n",
    "    stop_word_list = [s.strip() for s in f.readlines()]"
   ]
  },
  {
   "cell_type": "code",
   "execution_count": 91,
   "id": "4a4e4e7c",
   "metadata": {},
   "outputs": [],
   "source": [
    "# 统计词频\n",
    "word_cloud_dict = {}\n",
    "for w in result_word_list:\n",
    "    if w in stop_word_list:\n",
    "        continue\n",
    "    if w in word_cloud_dict.keys():\n",
    "        word_cloud_dict[w] = word_cloud_dict[w] + 1\n",
    "    else:\n",
    "        word_cloud_dict[w] = 1"
   ]
  },
  {
   "cell_type": "code",
   "execution_count": 78,
   "id": "dc126b57",
   "metadata": {},
   "outputs": [],
   "source": [
    "# 转换为数据框\n",
    "df = pd.DataFrame(pd.Series(word_cloud_dict), columns=['value'])\n",
    "df = df.reset_index().rename(columns={'index': 'key'})\n",
    "df.to_csv(\"word_freq_april.csv\",encoding=\"utf-8-sig\")"
   ]
  },
  {
   "cell_type": "code",
   "execution_count": 92,
   "id": "67cc336f",
   "metadata": {},
   "outputs": [],
   "source": [
    "result_word_list\n",
    "tex = \"\"\n",
    "for word in result_word_list:\n",
    "    tex = tex + word + \" \""
   ]
  },
  {
   "cell_type": "code",
   "execution_count": 11,
   "id": "703428bb",
   "metadata": {},
   "outputs": [],
   "source": [
    "word_cloud_data = sorted(word_cloud_dict.items(),key=lambda x:x[1],reverse=True)"
   ]
  },
  {
   "cell_type": "code",
   "execution_count": 79,
   "id": "96b42fc2",
   "metadata": {},
   "outputs": [],
   "source": [
    "import pyecharts.options as opts\n",
    "from pyecharts.charts import WordCloud\n",
    "import wordcloud"
   ]
  },
  {
   "cell_type": "code",
   "execution_count": 93,
   "id": "b83e8d4f",
   "metadata": {},
   "outputs": [
    {
     "data": {
      "text/plain": [
       "<wordcloud.wordcloud.WordCloud at 0x17a3c19ca60>"
      ]
     },
     "execution_count": 93,
     "metadata": {},
     "output_type": "execute_result"
    }
   ],
   "source": [
    "# word_cloud = (\n",
    "#     WordCloud()\n",
    "#     .add(series_name=\"评论热词\", data_pair=word_cloud_data, word_size_range=[30, 120], mask_image = \"wyy.png\")\n",
    "#     .set_global_opts(\n",
    "#         title_opts=opts.TitleOpts(\n",
    "#             title=\"评论热词\", title_textstyle_opts=opts.TextStyleOpts(font_size=23)\n",
    "#         ),\n",
    "#         tooltip_opts=opts.TooltipOpts(is_show=True),\n",
    "#     )\n",
    "# )\n",
    "# word_cloud.render_notebook()\n",
    "font = r'C:\\Users\\Adydio\\Desktop\\msyh.ttf'\n",
    "w = wordcloud.WordCloud(mask=mask, background_color='white', stopwords=stop_word_list, font_path=font, max_words=75)\n",
    "w.generate(tex)\n",
    "w.to_file('wc_march_.png')"
   ]
  },
  {
   "cell_type": "code",
   "execution_count": 92,
   "id": "9ee09dcf",
   "metadata": {},
   "outputs": [],
   "source": [
    "result_word_list\n",
    "tex = \"\"\n",
    "for word in result_word_list:\n",
    "    tex = tex + word + \" \""
   ]
  }
 ],
 "metadata": {
  "kernelspec": {
   "display_name": "Python 3 (ipykernel)",
   "language": "python",
   "name": "python3"
  },
  "language_info": {
   "codemirror_mode": {
    "name": "ipython",
    "version": 3
   },
   "file_extension": ".py",
   "mimetype": "text/x-python",
   "name": "python",
   "nbconvert_exporter": "python",
   "pygments_lexer": "ipython3",
   "version": "3.10.9"
  }
 },
 "nbformat": 4,
 "nbformat_minor": 5
}
