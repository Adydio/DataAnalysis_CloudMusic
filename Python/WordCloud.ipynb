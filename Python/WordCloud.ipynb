{
 "cells": [
  {
   "cell_type": "code",
   "execution_count": 1,
   "id": "35eec9f5",
   "metadata": {},
   "outputs": [
    {
     "name": "stderr",
     "output_type": "stream",
     "text": [
      "C:\\Users\\Adydio\\anaconda\\lib\\site-packages\\_distutils_hack\\__init__.py:33: UserWarning: Setuptools is replacing distutils.\n",
      "  warnings.warn(\"Setuptools is replacing distutils.\")\n"
     ]
    }
   ],
   "source": [
    "import paddlehub as hub\n",
    "import pandas as pd\n",
    "import imageio\n",
    "import numpy as np"
   ]
  },
  {
   "cell_type": "code",
   "execution_count": 2,
   "id": "3115543b",
   "metadata": {},
   "outputs": [],
   "source": [
    "def color_func(word,/,font_size,position,random_state,**kwargs):\n",
    "    if position[0]<500:\n",
    "        r=random_state.randint(0,40)\n",
    "    else:\n",
    "        r=random_state.randint(100,150)\n",
    "    if position[1]<500:\n",
    "        g=random_state.randint(0,40)\n",
    "    else:\n",
    "        g=random_state.randint(100,150)\n",
    "    if font_size<50:\n",
    "        b=random_state.randint(0,40)\n",
    "    else:\n",
    "        b=random_state.randint(100,150)\n",
    "    return (r,g,b)"
   ]
  },
  {
   "cell_type": "code",
   "execution_count": 3,
   "id": "5bf568ed",
   "metadata": {},
   "outputs": [],
   "source": [
    "def transform_mask(imagename):\n",
    "    mask = np.array(Image.open(f\"./{imagename}.png\")) \n",
    "    mask = mask[:,:,0] # transform 3d image to 2d for easier visualization\n",
    "    def transform_format(val):\n",
    "        if val.any()== 0:\n",
    "            return 255\n",
    "        else:\n",
    "            return val\n",
    "    transformed_mask = np.ndarray((aatrox_mask.shape[0],aatrox_mask.shape[1]), np.int32)\n",
    "    for i in range(len(aatrox_mask)):\n",
    "        transformed_mask[i] = list(map(transform_format,aatrox_mask[i]))\n",
    "    return transformed_mask"
   ]
  },
  {
   "cell_type": "code",
   "execution_count": 4,
   "id": "597a02a0",
   "metadata": {},
   "outputs": [],
   "source": [
    "def get_image_colors(imagename):\n",
    "    mask = np.array(Image.open(f\"./{imagename}.png\"))\n",
    "    image_colors  = ImageColorGenerator(mask)\n",
    "    return image_colors"
   ]
  },
  {
   "cell_type": "code",
   "execution_count": 5,
   "id": "2e863083",
   "metadata": {},
   "outputs": [],
   "source": [
    "import re\n",
    "cop = re.compile(\"[^\\u4e00-\\u9fa5^a-z^A-Z^0-9]\")"
   ]
  },
  {
   "cell_type": "code",
   "execution_count": 7,
   "id": "0e921e11",
   "metadata": {},
   "outputs": [],
   "source": [
    "mask = imageio.imread(\"wyy1.png\")"
   ]
  },
  {
   "cell_type": "code",
   "execution_count": 31,
   "id": "65c0b544",
   "metadata": {},
   "outputs": [],
   "source": [
    "df = pd.read_csv(\"all_comments_3.csv\")['content']"
   ]
  },
  {
   "cell_type": "code",
   "execution_count": 32,
   "id": "f01821e7",
   "metadata": {},
   "outputs": [],
   "source": [
    "test_text = df.tolist()\n",
    "for i in range(len(test_text)):\n",
    "    test_text[i] = str(test_text[i])\n",
    "    test_text[i] = cop.sub('', test_text[i])"
   ]
  },
  {
   "cell_type": "code",
   "execution_count": 33,
   "id": "70578e52",
   "metadata": {},
   "outputs": [],
   "source": [
    "lac = hub.Module(name=\"lac\") # 加载模型"
   ]
  },
  {
   "cell_type": "code",
   "execution_count": 34,
   "id": "b1a3bbbd",
   "metadata": {},
   "outputs": [],
   "source": [
    "results = lac.cut(text=test_text, use_gpu=False, batch_size=1, return_tag=True)"
   ]
  },
  {
   "cell_type": "code",
   "execution_count": 35,
   "id": "cf60149c",
   "metadata": {},
   "outputs": [],
   "source": [
    "result_word_list = []\n",
    "for result in results:\n",
    "    result_word_list.extend(result[\"word\"])"
   ]
  },
  {
   "cell_type": "code",
   "execution_count": 36,
   "id": "24e35861",
   "metadata": {},
   "outputs": [],
   "source": [
    "# 载入停用词数据\n",
    "with open(\"stopwords.txt\",\"r\",encoding=\"utf-8\") as f:\n",
    "    stop_word_list = [s.strip() for s in f.readlines()]"
   ]
  },
  {
   "cell_type": "code",
   "execution_count": 37,
   "id": "4a4e4e7c",
   "metadata": {},
   "outputs": [],
   "source": [
    "# 统计词频\n",
    "word_cloud_dict = {}\n",
    "for w in result_word_list:\n",
    "    if w in stop_word_list:\n",
    "        continue\n",
    "    if w in word_cloud_dict.keys():\n",
    "        word_cloud_dict[w] = word_cloud_dict[w] + 1\n",
    "    else:\n",
    "        word_cloud_dict[w] = 1"
   ]
  },
  {
   "cell_type": "code",
   "execution_count": 38,
   "id": "dc126b57",
   "metadata": {},
   "outputs": [],
   "source": [
    "# 转换为数据框\n",
    "df = pd.DataFrame(pd.Series(word_cloud_dict), columns=['value'])\n",
    "df = df.reset_index().rename(columns={'index': 'key'})\n",
    "df.to_csv(\"word_freq_3.csv\",encoding=\"utf-8-sig\")"
   ]
  },
  {
   "cell_type": "code",
   "execution_count": 39,
   "id": "67cc336f",
   "metadata": {},
   "outputs": [],
   "source": [
    "result_word_list\n",
    "tex = \"\"\n",
    "for word in result_word_list:\n",
    "    tex = tex + word + \" \""
   ]
  },
  {
   "cell_type": "code",
   "execution_count": 16,
   "id": "96b42fc2",
   "metadata": {},
   "outputs": [],
   "source": [
    "import pyecharts.options as opts\n",
    "from pyecharts.charts import WordCloud\n",
    "import wordcloud\n",
    "from wordcloud import WordCloud, STOPWORDS, ImageColorGenerator"
   ]
  },
  {
   "cell_type": "markdown",
   "id": "7ae355c8",
   "metadata": {},
   "source": [
    "颜色选项参考网站：https://matplotlib.org/2.0.2/examples/color/colormaps_reference.html"
   ]
  },
  {
   "cell_type": "code",
   "execution_count": 41,
   "id": "b83e8d4f",
   "metadata": {},
   "outputs": [
    {
     "data": {
      "text/plain": [
       "<wordcloud.wordcloud.WordCloud at 0x1841ccf9870>"
      ]
     },
     "execution_count": 41,
     "metadata": {},
     "output_type": "execute_result"
    }
   ],
   "source": [
    "#color_func=color_func\n",
    "font = r'C:\\Users\\Adydio\\Desktop\\msyh.ttf'\n",
    "w = wordcloud.WordCloud(mask=mask, background_color='white',font_step=4, stopwords=stop_word_list,colormap=\"winter\", font_path=font, max_words=200,min_font_size=6,max_font_size=100)\n",
    "w.generate(tex)\n",
    "w.to_file('houqi.png')"
   ]
  }
 ],
 "metadata": {
  "kernelspec": {
   "display_name": "Python 3 (ipykernel)",
   "language": "python",
   "name": "python3"
  },
  "language_info": {
   "codemirror_mode": {
    "name": "ipython",
    "version": 3
   },
   "file_extension": ".py",
   "mimetype": "text/x-python",
   "name": "python",
   "nbconvert_exporter": "python",
   "pygments_lexer": "ipython3",
   "version": "3.10.9"
  }
 },
 "nbformat": 4,
 "nbformat_minor": 5
}
